{
    "cells": [
        {
            "cell_type": "code",
            "execution_count": 1,
            "metadata": {},
            "outputs": [],
            "source": "import pandas as pd\nimport numpy as np"
        },
        {
            "cell_type": "code",
            "execution_count": 2,
            "metadata": {},
            "outputs": [
                {
                    "name": "stderr",
                    "output_type": "stream",
                    "text": "/opt/conda/envs/Python36/lib/python3.6/site-packages/IPython/core/interactiveshell.py:3020: DtypeWarning: Columns (33) have mixed types. Specify dtype option on import or set low_memory=False.\n  interactivity=interactivity, compiler=compiler, result=result)\n"
                },
                {
                    "data": {
                        "text/html": "<div>\n<style scoped>\n    .dataframe tbody tr th:only-of-type {\n        vertical-align: middle;\n    }\n\n    .dataframe tbody tr th {\n        vertical-align: top;\n    }\n\n    .dataframe thead th {\n        text-align: right;\n    }\n</style>\n<table border=\"1\" class=\"dataframe\">\n  <thead>\n    <tr style=\"text-align: right;\">\n      <th></th>\n      <th>SEVERITYCODE</th>\n      <th>X</th>\n      <th>Y</th>\n      <th>OBJECTID</th>\n      <th>INCKEY</th>\n      <th>COLDETKEY</th>\n      <th>REPORTNO</th>\n      <th>STATUS</th>\n      <th>ADDRTYPE</th>\n      <th>INTKEY</th>\n      <th>...</th>\n      <th>ROADCOND</th>\n      <th>LIGHTCOND</th>\n      <th>PEDROWNOTGRNT</th>\n      <th>SDOTCOLNUM</th>\n      <th>SPEEDING</th>\n      <th>ST_COLCODE</th>\n      <th>ST_COLDESC</th>\n      <th>SEGLANEKEY</th>\n      <th>CROSSWALKKEY</th>\n      <th>HITPARKEDCAR</th>\n    </tr>\n  </thead>\n  <tbody>\n    <tr>\n      <th>0</th>\n      <td>2</td>\n      <td>-122.323148</td>\n      <td>47.703140</td>\n      <td>1</td>\n      <td>1307</td>\n      <td>1307</td>\n      <td>3502005</td>\n      <td>Matched</td>\n      <td>Intersection</td>\n      <td>37475.0</td>\n      <td>...</td>\n      <td>Wet</td>\n      <td>Daylight</td>\n      <td>NaN</td>\n      <td>NaN</td>\n      <td>NaN</td>\n      <td>10</td>\n      <td>Entering at angle</td>\n      <td>0</td>\n      <td>0</td>\n      <td>N</td>\n    </tr>\n    <tr>\n      <th>1</th>\n      <td>1</td>\n      <td>-122.347294</td>\n      <td>47.647172</td>\n      <td>2</td>\n      <td>52200</td>\n      <td>52200</td>\n      <td>2607959</td>\n      <td>Matched</td>\n      <td>Block</td>\n      <td>NaN</td>\n      <td>...</td>\n      <td>Wet</td>\n      <td>Dark - Street Lights On</td>\n      <td>NaN</td>\n      <td>6354039.0</td>\n      <td>NaN</td>\n      <td>11</td>\n      <td>From same direction - both going straight - bo...</td>\n      <td>0</td>\n      <td>0</td>\n      <td>N</td>\n    </tr>\n    <tr>\n      <th>2</th>\n      <td>1</td>\n      <td>-122.334540</td>\n      <td>47.607871</td>\n      <td>3</td>\n      <td>26700</td>\n      <td>26700</td>\n      <td>1482393</td>\n      <td>Matched</td>\n      <td>Block</td>\n      <td>NaN</td>\n      <td>...</td>\n      <td>Dry</td>\n      <td>Daylight</td>\n      <td>NaN</td>\n      <td>4323031.0</td>\n      <td>NaN</td>\n      <td>32</td>\n      <td>One parked--one moving</td>\n      <td>0</td>\n      <td>0</td>\n      <td>N</td>\n    </tr>\n    <tr>\n      <th>3</th>\n      <td>1</td>\n      <td>-122.334803</td>\n      <td>47.604803</td>\n      <td>4</td>\n      <td>1144</td>\n      <td>1144</td>\n      <td>3503937</td>\n      <td>Matched</td>\n      <td>Block</td>\n      <td>NaN</td>\n      <td>...</td>\n      <td>Dry</td>\n      <td>Daylight</td>\n      <td>NaN</td>\n      <td>NaN</td>\n      <td>NaN</td>\n      <td>23</td>\n      <td>From same direction - all others</td>\n      <td>0</td>\n      <td>0</td>\n      <td>N</td>\n    </tr>\n    <tr>\n      <th>4</th>\n      <td>2</td>\n      <td>-122.306426</td>\n      <td>47.545739</td>\n      <td>5</td>\n      <td>17700</td>\n      <td>17700</td>\n      <td>1807429</td>\n      <td>Matched</td>\n      <td>Intersection</td>\n      <td>34387.0</td>\n      <td>...</td>\n      <td>Wet</td>\n      <td>Daylight</td>\n      <td>NaN</td>\n      <td>4028032.0</td>\n      <td>NaN</td>\n      <td>10</td>\n      <td>Entering at angle</td>\n      <td>0</td>\n      <td>0</td>\n      <td>N</td>\n    </tr>\n  </tbody>\n</table>\n<p>5 rows \u00d7 38 columns</p>\n</div>",
                        "text/plain": "   SEVERITYCODE           X          Y  OBJECTID  INCKEY  COLDETKEY REPORTNO  \\\n0             2 -122.323148  47.703140         1    1307       1307  3502005   \n1             1 -122.347294  47.647172         2   52200      52200  2607959   \n2             1 -122.334540  47.607871         3   26700      26700  1482393   \n3             1 -122.334803  47.604803         4    1144       1144  3503937   \n4             2 -122.306426  47.545739         5   17700      17700  1807429   \n\n    STATUS      ADDRTYPE   INTKEY  ... ROADCOND                LIGHTCOND  \\\n0  Matched  Intersection  37475.0  ...      Wet                 Daylight   \n1  Matched         Block      NaN  ...      Wet  Dark - Street Lights On   \n2  Matched         Block      NaN  ...      Dry                 Daylight   \n3  Matched         Block      NaN  ...      Dry                 Daylight   \n4  Matched  Intersection  34387.0  ...      Wet                 Daylight   \n\n  PEDROWNOTGRNT  SDOTCOLNUM SPEEDING ST_COLCODE  \\\n0           NaN         NaN      NaN         10   \n1           NaN   6354039.0      NaN         11   \n2           NaN   4323031.0      NaN         32   \n3           NaN         NaN      NaN         23   \n4           NaN   4028032.0      NaN         10   \n\n                                          ST_COLDESC  SEGLANEKEY  \\\n0                                  Entering at angle           0   \n1  From same direction - both going straight - bo...           0   \n2                             One parked--one moving           0   \n3                   From same direction - all others           0   \n4                                  Entering at angle           0   \n\n   CROSSWALKKEY  HITPARKEDCAR  \n0             0             N  \n1             0             N  \n2             0             N  \n3             0             N  \n4             0             N  \n\n[5 rows x 38 columns]"
                    },
                    "execution_count": 2,
                    "metadata": {},
                    "output_type": "execute_result"
                }
            ],
            "source": "# The code was removed by Watson Studio for sharing."
        },
        {
            "cell_type": "code",
            "execution_count": 3,
            "metadata": {},
            "outputs": [
                {
                    "data": {
                        "text/plain": "SEVERITYCODE        int64\nX                 float64\nY                 float64\nOBJECTID            int64\nINCKEY              int64\nCOLDETKEY           int64\nREPORTNO           object\nSTATUS             object\nADDRTYPE           object\nINTKEY            float64\nLOCATION           object\nEXCEPTRSNCODE      object\nEXCEPTRSNDESC      object\nSEVERITYCODE.1      int64\nSEVERITYDESC       object\nCOLLISIONTYPE      object\nPERSONCOUNT         int64\nPEDCOUNT            int64\nPEDCYLCOUNT         int64\nVEHCOUNT            int64\nINCDATE            object\nINCDTTM            object\nJUNCTIONTYPE       object\nSDOT_COLCODE        int64\nSDOT_COLDESC       object\nINATTENTIONIND     object\nUNDERINFL          object\nWEATHER            object\nROADCOND           object\nLIGHTCOND          object\nPEDROWNOTGRNT      object\nSDOTCOLNUM        float64\nSPEEDING           object\nST_COLCODE         object\nST_COLDESC         object\nSEGLANEKEY          int64\nCROSSWALKKEY        int64\nHITPARKEDCAR       object\ndtype: object"
                    },
                    "execution_count": 3,
                    "metadata": {},
                    "output_type": "execute_result"
                }
            ],
            "source": "df_data.dtypes"
        },
        {
            "cell_type": "code",
            "execution_count": 4,
            "metadata": {},
            "outputs": [
                {
                    "data": {
                        "text/html": "<div>\n<style scoped>\n    .dataframe tbody tr th:only-of-type {\n        vertical-align: middle;\n    }\n\n    .dataframe tbody tr th {\n        vertical-align: top;\n    }\n\n    .dataframe thead th {\n        text-align: right;\n    }\n</style>\n<table border=\"1\" class=\"dataframe\">\n  <thead>\n    <tr style=\"text-align: right;\">\n      <th></th>\n      <th>SEVERITYCODE</th>\n      <th>X</th>\n      <th>Y</th>\n      <th>OBJECTID</th>\n      <th>INCKEY</th>\n      <th>COLDETKEY</th>\n      <th>INTKEY</th>\n      <th>SEVERITYCODE.1</th>\n      <th>PERSONCOUNT</th>\n      <th>PEDCOUNT</th>\n      <th>PEDCYLCOUNT</th>\n      <th>VEHCOUNT</th>\n      <th>SDOT_COLCODE</th>\n      <th>SDOTCOLNUM</th>\n      <th>SEGLANEKEY</th>\n      <th>CROSSWALKKEY</th>\n    </tr>\n  </thead>\n  <tbody>\n    <tr>\n      <th>count</th>\n      <td>194673.000000</td>\n      <td>189339.000000</td>\n      <td>189339.000000</td>\n      <td>194673.000000</td>\n      <td>194673.000000</td>\n      <td>194673.000000</td>\n      <td>65070.000000</td>\n      <td>194673.000000</td>\n      <td>194673.000000</td>\n      <td>194673.000000</td>\n      <td>194673.000000</td>\n      <td>194673.000000</td>\n      <td>194673.000000</td>\n      <td>1.149360e+05</td>\n      <td>194673.000000</td>\n      <td>1.946730e+05</td>\n    </tr>\n    <tr>\n      <th>mean</th>\n      <td>1.298901</td>\n      <td>-122.330518</td>\n      <td>47.619543</td>\n      <td>108479.364930</td>\n      <td>141091.456350</td>\n      <td>141298.811381</td>\n      <td>37558.450576</td>\n      <td>1.298901</td>\n      <td>2.444427</td>\n      <td>0.037139</td>\n      <td>0.028391</td>\n      <td>1.920780</td>\n      <td>13.867768</td>\n      <td>7.972521e+06</td>\n      <td>269.401114</td>\n      <td>9.782452e+03</td>\n    </tr>\n    <tr>\n      <th>std</th>\n      <td>0.457778</td>\n      <td>0.029976</td>\n      <td>0.056157</td>\n      <td>62649.722558</td>\n      <td>86634.402737</td>\n      <td>86986.542110</td>\n      <td>51745.990273</td>\n      <td>0.457778</td>\n      <td>1.345929</td>\n      <td>0.198150</td>\n      <td>0.167413</td>\n      <td>0.631047</td>\n      <td>6.868755</td>\n      <td>2.553533e+06</td>\n      <td>3315.776055</td>\n      <td>7.226926e+04</td>\n    </tr>\n    <tr>\n      <th>min</th>\n      <td>1.000000</td>\n      <td>-122.419091</td>\n      <td>47.495573</td>\n      <td>1.000000</td>\n      <td>1001.000000</td>\n      <td>1001.000000</td>\n      <td>23807.000000</td>\n      <td>1.000000</td>\n      <td>0.000000</td>\n      <td>0.000000</td>\n      <td>0.000000</td>\n      <td>0.000000</td>\n      <td>0.000000</td>\n      <td>1.007024e+06</td>\n      <td>0.000000</td>\n      <td>0.000000e+00</td>\n    </tr>\n    <tr>\n      <th>25%</th>\n      <td>1.000000</td>\n      <td>-122.348673</td>\n      <td>47.575956</td>\n      <td>54267.000000</td>\n      <td>70383.000000</td>\n      <td>70383.000000</td>\n      <td>28667.000000</td>\n      <td>1.000000</td>\n      <td>2.000000</td>\n      <td>0.000000</td>\n      <td>0.000000</td>\n      <td>2.000000</td>\n      <td>11.000000</td>\n      <td>6.040015e+06</td>\n      <td>0.000000</td>\n      <td>0.000000e+00</td>\n    </tr>\n    <tr>\n      <th>50%</th>\n      <td>1.000000</td>\n      <td>-122.330224</td>\n      <td>47.615369</td>\n      <td>106912.000000</td>\n      <td>123363.000000</td>\n      <td>123363.000000</td>\n      <td>29973.000000</td>\n      <td>1.000000</td>\n      <td>2.000000</td>\n      <td>0.000000</td>\n      <td>0.000000</td>\n      <td>2.000000</td>\n      <td>13.000000</td>\n      <td>8.023022e+06</td>\n      <td>0.000000</td>\n      <td>0.000000e+00</td>\n    </tr>\n    <tr>\n      <th>75%</th>\n      <td>2.000000</td>\n      <td>-122.311937</td>\n      <td>47.663664</td>\n      <td>162272.000000</td>\n      <td>203319.000000</td>\n      <td>203459.000000</td>\n      <td>33973.000000</td>\n      <td>2.000000</td>\n      <td>3.000000</td>\n      <td>0.000000</td>\n      <td>0.000000</td>\n      <td>2.000000</td>\n      <td>14.000000</td>\n      <td>1.015501e+07</td>\n      <td>0.000000</td>\n      <td>0.000000e+00</td>\n    </tr>\n    <tr>\n      <th>max</th>\n      <td>2.000000</td>\n      <td>-122.238949</td>\n      <td>47.734142</td>\n      <td>219547.000000</td>\n      <td>331454.000000</td>\n      <td>332954.000000</td>\n      <td>757580.000000</td>\n      <td>2.000000</td>\n      <td>81.000000</td>\n      <td>6.000000</td>\n      <td>2.000000</td>\n      <td>12.000000</td>\n      <td>69.000000</td>\n      <td>1.307202e+07</td>\n      <td>525241.000000</td>\n      <td>5.239700e+06</td>\n    </tr>\n  </tbody>\n</table>\n</div>",
                        "text/plain": "        SEVERITYCODE              X              Y       OBJECTID  \\\ncount  194673.000000  189339.000000  189339.000000  194673.000000   \nmean        1.298901    -122.330518      47.619543  108479.364930   \nstd         0.457778       0.029976       0.056157   62649.722558   \nmin         1.000000    -122.419091      47.495573       1.000000   \n25%         1.000000    -122.348673      47.575956   54267.000000   \n50%         1.000000    -122.330224      47.615369  106912.000000   \n75%         2.000000    -122.311937      47.663664  162272.000000   \nmax         2.000000    -122.238949      47.734142  219547.000000   \n\n              INCKEY      COLDETKEY         INTKEY  SEVERITYCODE.1  \\\ncount  194673.000000  194673.000000   65070.000000   194673.000000   \nmean   141091.456350  141298.811381   37558.450576        1.298901   \nstd     86634.402737   86986.542110   51745.990273        0.457778   \nmin      1001.000000    1001.000000   23807.000000        1.000000   \n25%     70383.000000   70383.000000   28667.000000        1.000000   \n50%    123363.000000  123363.000000   29973.000000        1.000000   \n75%    203319.000000  203459.000000   33973.000000        2.000000   \nmax    331454.000000  332954.000000  757580.000000        2.000000   \n\n         PERSONCOUNT       PEDCOUNT    PEDCYLCOUNT       VEHCOUNT  \\\ncount  194673.000000  194673.000000  194673.000000  194673.000000   \nmean        2.444427       0.037139       0.028391       1.920780   \nstd         1.345929       0.198150       0.167413       0.631047   \nmin         0.000000       0.000000       0.000000       0.000000   \n25%         2.000000       0.000000       0.000000       2.000000   \n50%         2.000000       0.000000       0.000000       2.000000   \n75%         3.000000       0.000000       0.000000       2.000000   \nmax        81.000000       6.000000       2.000000      12.000000   \n\n        SDOT_COLCODE    SDOTCOLNUM     SEGLANEKEY  CROSSWALKKEY  \ncount  194673.000000  1.149360e+05  194673.000000  1.946730e+05  \nmean       13.867768  7.972521e+06     269.401114  9.782452e+03  \nstd         6.868755  2.553533e+06    3315.776055  7.226926e+04  \nmin         0.000000  1.007024e+06       0.000000  0.000000e+00  \n25%        11.000000  6.040015e+06       0.000000  0.000000e+00  \n50%        13.000000  8.023022e+06       0.000000  0.000000e+00  \n75%        14.000000  1.015501e+07       0.000000  0.000000e+00  \nmax        69.000000  1.307202e+07  525241.000000  5.239700e+06  "
                    },
                    "execution_count": 4,
                    "metadata": {},
                    "output_type": "execute_result"
                }
            ],
            "source": "df_data.describe(include=[\"int\", \"float\"])"
        },
        {
            "cell_type": "code",
            "execution_count": 5,
            "metadata": {},
            "outputs": [
                {
                    "data": {
                        "text/plain": "Matched      189786\nUnmatched      4887\nName: STATUS, dtype: int64"
                    },
                    "execution_count": 5,
                    "metadata": {},
                    "output_type": "execute_result"
                }
            ],
            "source": "df_data['STATUS'].value_counts()"
        },
        {
            "cell_type": "code",
            "execution_count": 6,
            "metadata": {},
            "outputs": [],
            "source": "df_data.drop(df_data[df_data['STATUS']=='Unmatched'].index, inplace= True)"
        },
        {
            "cell_type": "code",
            "execution_count": 7,
            "metadata": {},
            "outputs": [
                {
                    "data": {
                        "text/plain": "Matched    189786\nName: STATUS, dtype: int64"
                    },
                    "execution_count": 7,
                    "metadata": {},
                    "output_type": "execute_result"
                }
            ],
            "source": "df_data['STATUS'].value_counts()"
        },
        {
            "cell_type": "code",
            "execution_count": 8,
            "metadata": {},
            "outputs": [
                {
                    "data": {
                        "text/plain": "0    182847\n1      6685\n2       226\n3        22\n4         4\n6         1\n5         1\nName: PEDCOUNT, dtype: int64"
                    },
                    "execution_count": 8,
                    "metadata": {},
                    "output_type": "execute_result"
                }
            ],
            "source": "df_data['PEDCOUNT'].value_counts()"
        },
        {
            "cell_type": "code",
            "execution_count": 9,
            "metadata": {},
            "outputs": [
                {
                    "data": {
                        "text/plain": "0    184302\n1      5441\n2        43\nName: PEDCYLCOUNT, dtype: int64"
                    },
                    "execution_count": 9,
                    "metadata": {},
                    "output_type": "execute_result"
                }
            ],
            "source": "df_data['PEDCYLCOUNT'].value_counts()"
        },
        {
            "cell_type": "code",
            "execution_count": 10,
            "metadata": {},
            "outputs": [
                {
                    "data": {
                        "text/plain": "2     147647\n1      25748\n3      13010\n4       2426\n5        529\n0        201\n6        146\n7         46\n8         15\n9          9\n11         6\n10         2\n12         1\nName: VEHCOUNT, dtype: int64"
                    },
                    "execution_count": 10,
                    "metadata": {},
                    "output_type": "execute_result"
                }
            ],
            "source": "df_data['VEHCOUNT'].value_counts()"
        },
        {
            "cell_type": "code",
            "execution_count": 11,
            "metadata": {},
            "outputs": [
                {
                    "data": {
                        "text/plain": "2    147647\n1     25748\n3     13010\n4      2426\n5       529\n0       426\nName: VEHCOUNT, dtype: int64"
                    },
                    "execution_count": 11,
                    "metadata": {},
                    "output_type": "execute_result"
                }
            ],
            "source": "a=[]\nfor c in df_data['VEHCOUNT']:\n    if (c==0 | c>5):\n        c=0\n        a.append(c)\n        \n    else:\n        c\n        a.append(c)\n            \ndf_data['VEHCOUNT']=a\ndf_data['VEHCOUNT'].value_counts()"
        },
        {
            "cell_type": "code",
            "execution_count": 12,
            "metadata": {},
            "outputs": [
                {
                    "name": "stdout",
                    "output_type": "stream",
                    "text": "Solving environment: done\n\n# All requested packages already installed.\n\n"
                }
            ],
            "source": "!conda install -c anaconda seaborn -y"
        },
        {
            "cell_type": "code",
            "execution_count": 13,
            "metadata": {},
            "outputs": [],
            "source": "import matplotlib.pyplot as plt\nimport seaborn as sns\n%matplotlib inline"
        },
        {
            "cell_type": "code",
            "execution_count": 14,
            "metadata": {},
            "outputs": [
                {
                    "data": {
                        "image/png": "[encoded data removed]",
                        "text/plain": "<Figure size 216x216 with 1 Axes>"
                    },
                    "metadata": {
                        "needs_background": "light"
                    },
                    "output_type": "display_data"
                }
            ],
            "source": "bins=np.linspace(0,5,7)\ng=sns.FacetGrid(df_data, hue=\"SEVERITYCODE\", palette=\"Set1\")\ng.map(plt.hist, \"VEHCOUNT\", bins=bins, ec=\"k\")\nplt.legend(loc=\"best\")\nplt.show()"
        },
        {
            "cell_type": "code",
            "execution_count": 15,
            "metadata": {},
            "outputs": [
                {
                    "data": {
                        "text/plain": "2     111402\n3      35142\n4      14445\n1      11728\n5       6584\n0       5538\n6       2702\n7       1131\n8        533\n9        216\n10       128\n11        56\n12        33\n13        21\n14        19\n15        11\n17        11\n16         8\n44         6\n18         6\n20         6\n25         6\n19         5\n26         4\n22         4\n27         3\n28         3\n29         3\n47         3\n32         3\n34         3\n37         3\n23         2\n21         2\n24         2\n30         2\n36         2\n57         1\n31         1\n35         1\n39         1\n41         1\n43         1\n48         1\n53         1\n54         1\n81         1\nName: PERSONCOUNT, dtype: int64"
                    },
                    "execution_count": 15,
                    "metadata": {},
                    "output_type": "execute_result"
                }
            ],
            "source": "df_data['PERSONCOUNT'].value_counts()"
        },
        {
            "cell_type": "code",
            "execution_count": 16,
            "metadata": {},
            "outputs": [],
            "source": "df_data.drop(df_data[df_data['PERSONCOUNT']==0].index, inplace= True)"
        },
        {
            "cell_type": "code",
            "execution_count": 17,
            "metadata": {},
            "outputs": [
                {
                    "data": {
                        "text/plain": "2    111402\n3     35142\n4     14445\n1     11728\n5      6584\n0      4947\nName: PERSONCOUNT, dtype: int64"
                    },
                    "execution_count": 17,
                    "metadata": {},
                    "output_type": "execute_result"
                }
            ],
            "source": "b=[]\nfor c in df_data['PERSONCOUNT']:\n    if c>5:\n        c=0\n        b.append(c)\n        \n    else:\n        c\n        b.append(c)\ndf_data[['PERSONCOUNT']]=b      \ndf_data['PERSONCOUNT'].value_counts()        "
        },
        {
            "cell_type": "code",
            "execution_count": 18,
            "metadata": {},
            "outputs": [
                {
                    "data": {
                        "image/png": "[encoded data removed]",
                        "text/plain": "<Figure size 216x216 with 1 Axes>"
                    },
                    "metadata": {
                        "needs_background": "light"
                    },
                    "output_type": "display_data"
                }
            ],
            "source": "bins=(0,5,7)\ng=sns.FacetGrid(df_data, hue=\"SEVERITYCODE\", palette=\"Set1\")\ng.map(plt.hist, \"PERSONCOUNT\", ec=\"k\")\nplt.legend()\nplt.show()"
        },
        {
            "cell_type": "code",
            "execution_count": 19,
            "metadata": {},
            "outputs": [
                {
                    "data": {
                        "text/html": "<div>\n<style scoped>\n    .dataframe tbody tr th:only-of-type {\n        vertical-align: middle;\n    }\n\n    .dataframe tbody tr th {\n        vertical-align: top;\n    }\n\n    .dataframe thead th {\n        text-align: right;\n    }\n</style>\n<table border=\"1\" class=\"dataframe\">\n  <thead>\n    <tr style=\"text-align: right;\">\n      <th></th>\n      <th>REPORTNO</th>\n      <th>STATUS</th>\n      <th>ADDRTYPE</th>\n      <th>LOCATION</th>\n      <th>EXCEPTRSNCODE</th>\n      <th>EXCEPTRSNDESC</th>\n      <th>SEVERITYDESC</th>\n      <th>COLLISIONTYPE</th>\n      <th>INCDATE</th>\n      <th>INCDTTM</th>\n      <th>...</th>\n      <th>INATTENTIONIND</th>\n      <th>UNDERINFL</th>\n      <th>WEATHER</th>\n      <th>ROADCOND</th>\n      <th>LIGHTCOND</th>\n      <th>PEDROWNOTGRNT</th>\n      <th>SPEEDING</th>\n      <th>ST_COLCODE</th>\n      <th>ST_COLDESC</th>\n      <th>HITPARKEDCAR</th>\n    </tr>\n  </thead>\n  <tbody>\n    <tr>\n      <th>count</th>\n      <td>184248</td>\n      <td>184248</td>\n      <td>182459</td>\n      <td>181730</td>\n      <td>74630</td>\n      <td>4687</td>\n      <td>184248</td>\n      <td>184227</td>\n      <td>184248</td>\n      <td>184248</td>\n      <td>...</td>\n      <td>29768</td>\n      <td>184248</td>\n      <td>184054</td>\n      <td>184121</td>\n      <td>183966</td>\n      <td>4660</td>\n      <td>9315</td>\n      <td>184230</td>\n      <td>184227</td>\n      <td>184248</td>\n    </tr>\n    <tr>\n      <th>unique</th>\n      <td>184245</td>\n      <td>1</td>\n      <td>3</td>\n      <td>23766</td>\n      <td>2</td>\n      <td>1</td>\n      <td>2</td>\n      <td>10</td>\n      <td>5927</td>\n      <td>155084</td>\n      <td>...</td>\n      <td>1</td>\n      <td>4</td>\n      <td>11</td>\n      <td>9</td>\n      <td>9</td>\n      <td>1</td>\n      <td>1</td>\n      <td>115</td>\n      <td>62</td>\n      <td>2</td>\n    </tr>\n    <tr>\n      <th>top</th>\n      <td>1782439</td>\n      <td>Matched</td>\n      <td>Block</td>\n      <td>BATTERY ST TUNNEL NB BETWEEN ALASKAN WY VI NB ...</td>\n      <td></td>\n      <td>Not Enough Information, or Insufficient Locati...</td>\n      <td>Property Damage Only Collision</td>\n      <td>Parked Car</td>\n      <td>2006/11/02 00:00:00+00</td>\n      <td>11/2/2006</td>\n      <td>...</td>\n      <td>Y</td>\n      <td>N</td>\n      <td>Clear</td>\n      <td>Dry</td>\n      <td>Daylight</td>\n      <td>Y</td>\n      <td>Y</td>\n      <td>32</td>\n      <td>One parked--one moving</td>\n      <td>N</td>\n    </tr>\n    <tr>\n      <th>freq</th>\n      <td>2</td>\n      <td>184248</td>\n      <td>120146</td>\n      <td>268</td>\n      <td>69943</td>\n      <td>4687</td>\n      <td>128850</td>\n      <td>46873</td>\n      <td>96</td>\n      <td>96</td>\n      <td>...</td>\n      <td>29768</td>\n      <td>94964</td>\n      <td>107257</td>\n      <td>120245</td>\n      <td>112215</td>\n      <td>4660</td>\n      <td>9315</td>\n      <td>26633</td>\n      <td>43419</td>\n      <td>177831</td>\n    </tr>\n  </tbody>\n</table>\n<p>4 rows \u00d7 22 columns</p>\n</div>",
                        "text/plain": "       REPORTNO   STATUS ADDRTYPE  \\\ncount    184248   184248   182459   \nunique   184245        1        3   \ntop     1782439  Matched    Block   \nfreq          2   184248   120146   \n\n                                                 LOCATION EXCEPTRSNCODE  \\\ncount                                              181730         74630   \nunique                                              23766             2   \ntop     BATTERY ST TUNNEL NB BETWEEN ALASKAN WY VI NB ...                 \nfreq                                                  268         69943   \n\n                                            EXCEPTRSNDESC  \\\ncount                                                4687   \nunique                                                  1   \ntop     Not Enough Information, or Insufficient Locati...   \nfreq                                                 4687   \n\n                          SEVERITYDESC COLLISIONTYPE                 INCDATE  \\\ncount                           184248        184227                  184248   \nunique                               2            10                    5927   \ntop     Property Damage Only Collision    Parked Car  2006/11/02 00:00:00+00   \nfreq                            128850         46873                      96   \n\n          INCDTTM  ... INATTENTIONIND UNDERINFL WEATHER ROADCOND LIGHTCOND  \\\ncount      184248  ...          29768    184248  184054   184121    183966   \nunique     155084  ...              1         4      11        9         9   \ntop     11/2/2006  ...              Y         N   Clear      Dry  Daylight   \nfreq           96  ...          29768     94964  107257   120245    112215   \n\n       PEDROWNOTGRNT SPEEDING ST_COLCODE              ST_COLDESC HITPARKEDCAR  \ncount           4660     9315     184230                  184227       184248  \nunique             1        1        115                      62            2  \ntop                Y        Y         32  One parked--one moving            N  \nfreq            4660     9315      26633                   43419       177831  \n\n[4 rows x 22 columns]"
                    },
                    "execution_count": 19,
                    "metadata": {},
                    "output_type": "execute_result"
                }
            ],
            "source": "df_data.describe(include=\"object\")"
        },
        {
            "cell_type": "code",
            "execution_count": 20,
            "metadata": {},
            "outputs": [
                {
                    "data": {
                        "text/plain": "Block           120146\nIntersection     61584\nAlley              729\nName: ADDRTYPE, dtype: int64"
                    },
                    "execution_count": 20,
                    "metadata": {},
                    "output_type": "execute_result"
                }
            ],
            "source": "df_data['ADDRTYPE'].value_counts()"
        },
        {
            "cell_type": "code",
            "execution_count": 21,
            "metadata": {},
            "outputs": [
                {
                    "data": {
                        "text/plain": "1789"
                    },
                    "execution_count": 21,
                    "metadata": {},
                    "output_type": "execute_result"
                }
            ],
            "source": "df_data['ADDRTYPE'].isnull().sum()"
        },
        {
            "cell_type": "code",
            "execution_count": 22,
            "metadata": {},
            "outputs": [
                {
                    "data": {
                        "text/plain": "Mid-Block (not related to intersection)              84330\nAt Intersection (intersection related)               59461\nMid-Block (but intersection related)                 22021\nDriveway Junction                                    10297\nAt Intersection (but not related to intersection)     1957\nRamp Junction                                          159\nUnknown                                                  7\nName: JUNCTIONTYPE, dtype: int64"
                    },
                    "execution_count": 22,
                    "metadata": {},
                    "output_type": "execute_result"
                }
            ],
            "source": "df_data['JUNCTIONTYPE'].value_counts()"
        },
        {
            "cell_type": "code",
            "execution_count": 23,
            "metadata": {},
            "outputs": [
                {
                    "data": {
                        "text/plain": "6016"
                    },
                    "execution_count": 23,
                    "metadata": {},
                    "output_type": "execute_result"
                }
            ],
            "source": "df_data['JUNCTIONTYPE'].isnull().sum()"
        },
        {
            "cell_type": "code",
            "execution_count": 24,
            "metadata": {},
            "outputs": [],
            "source": "df_data['JUNCTIONTYPE'].replace(np.nan, \"Unknown\", inplace= True)"
        },
        {
            "cell_type": "code",
            "execution_count": 25,
            "metadata": {
                "scrolled": true
            },
            "outputs": [
                {
                    "data": {
                        "text/plain": "Mid-Block (not related to intersection)              84330\nAt Intersection (intersection related)               59461\nMid-Block (but intersection related)                 22021\nDriveway Junction                                    10297\nUnknown                                               6023\nAt Intersection (but not related to intersection)     1957\nRamp Junction                                          159\nName: JUNCTIONTYPE, dtype: int64"
                    },
                    "execution_count": 25,
                    "metadata": {},
                    "output_type": "execute_result"
                }
            ],
            "source": "df_data['JUNCTIONTYPE'].value_counts()"
        },
        {
            "cell_type": "code",
            "execution_count": 26,
            "metadata": {},
            "outputs": [],
            "source": "from sklearn.preprocessing import LabelEncoder\nle=LabelEncoder()"
        },
        {
            "cell_type": "code",
            "execution_count": 27,
            "metadata": {},
            "outputs": [
                {
                    "data": {
                        "text/plain": "4    84330\n1    59461\n3    22021\n2    10297\n6     6023\n0     1957\n5      159\nName: JUNCTIONTYPE, dtype: int64"
                    },
                    "execution_count": 27,
                    "metadata": {},
                    "output_type": "execute_result"
                }
            ],
            "source": "le.fit([\"Mid-Block (not related to intersection)\",\"At Intersection (intersection related)\", \"Mid-Block (but intersection related)\",\n        \"Driveway Junction\", \"At Intersection (but not related to intersection)\", \"Ramp Junction\", \"Unknown\"])\ndf_data['JUNCTIONTYPE']=le.transform(df_data['JUNCTIONTYPE'])\ndf_data['JUNCTIONTYPE'].value_counts()"
        },
        {
            "cell_type": "code",
            "execution_count": 28,
            "metadata": {},
            "outputs": [
                {
                    "data": {
                        "image/png": "[encoded data removed]",
                        "text/plain": "<Figure size 216x216 with 1 Axes>"
                    },
                    "metadata": {
                        "needs_background": "light"
                    },
                    "output_type": "display_data"
                }
            ],
            "source": "bins=np.linspace(0,6,8)\ng=sns.FacetGrid(df_data, hue=\"SEVERITYCODE\", palette=\"Set1\")\ng.map(plt.hist, \"JUNCTIONTYPE\", ec=\"k\", bins=bins)\nplt.legend()\nplt.show()"
        },
        {
            "cell_type": "code",
            "execution_count": 29,
            "metadata": {},
            "outputs": [
                {
                    "data": {
                        "text/plain": "Parked Car    46873\nAngles        33457\nRear Ended    33052\nOther         23122\nSideswipe     17999\nLeft Turn     13269\nPedestrian     6402\nCycles         5230\nRight Turn     2861\nHead On        1962\nName: COLLISIONTYPE, dtype: int64"
                    },
                    "execution_count": 29,
                    "metadata": {},
                    "output_type": "execute_result"
                }
            ],
            "source": "df_data['COLLISIONTYPE'].value_counts()"
        },
        {
            "cell_type": "code",
            "execution_count": 30,
            "metadata": {},
            "outputs": [
                {
                    "data": {
                        "text/plain": "21"
                    },
                    "execution_count": 30,
                    "metadata": {},
                    "output_type": "execute_result"
                }
            ],
            "source": "df_data['COLLISIONTYPE'].isnull().sum()"
        },
        {
            "cell_type": "code",
            "execution_count": 31,
            "metadata": {},
            "outputs": [],
            "source": "df_data['COLLISIONTYPE'].replace(to_replace=[np.nan], value=[\"Other\"], inplace= True)"
        },
        {
            "cell_type": "code",
            "execution_count": 32,
            "metadata": {},
            "outputs": [
                {
                    "data": {
                        "text/plain": "Parked Car    46873\nAngles        33457\nRear Ended    33052\nOther         23143\nSideswipe     17999\nLeft Turn     13269\nPedestrian     6402\nCycles         5230\nRight Turn     2861\nHead On        1962\nName: COLLISIONTYPE, dtype: int64"
                    },
                    "execution_count": 32,
                    "metadata": {},
                    "output_type": "execute_result"
                }
            ],
            "source": "df_data['COLLISIONTYPE'].value_counts()"
        },
        {
            "cell_type": "code",
            "execution_count": 33,
            "metadata": {},
            "outputs": [
                {
                    "data": {
                        "text/plain": "5    46873\n0    33457\n7    33052\n4    23143\n9    17999\n3    13269\n6     6402\n1     5230\n8     2861\n2     1962\nName: COLLISIONTYPE, dtype: int64"
                    },
                    "execution_count": 33,
                    "metadata": {},
                    "output_type": "execute_result"
                }
            ],
            "source": "le.fit(['Parked Car','Angles', 'Rear Ended', 'Other', 'Sideswipe', 'Left Turn', 'Pedestrian', 'Cycles', 'Right Turn', 'Head On'])\ndf_data['COLLISIONTYPE']=le.transform(df_data['COLLISIONTYPE'])\ndf_data['COLLISIONTYPE'].value_counts()"
        },
        {
            "cell_type": "code",
            "execution_count": 34,
            "metadata": {},
            "outputs": [
                {
                    "data": {
                        "image/png": "[encoded data removed]",
                        "text/plain": "<Figure size 216x216 with 1 Axes>"
                    },
                    "metadata": {
                        "needs_background": "light"
                    },
                    "output_type": "display_data"
                }
            ],
            "source": "bins=np.linspace(0,9,11)\ng=sns.FacetGrid(df_data, hue=\"SEVERITYCODE\", palette=\"Set1\")\ng.map(plt.hist, \"COLLISIONTYPE\", ec=\"k\", bins=bins)\nplt.legend()\nplt.show()"
        },
        {
            "cell_type": "code",
            "execution_count": 35,
            "metadata": {},
            "outputs": [
                {
                    "data": {
                        "text/plain": "N    94964\n0    80163\nY     5126\n1     3995\nName: UNDERINFL, dtype: int64"
                    },
                    "execution_count": 35,
                    "metadata": {},
                    "output_type": "execute_result"
                }
            ],
            "source": "df_data['UNDERINFL'].value_counts()"
        },
        {
            "cell_type": "code",
            "execution_count": 36,
            "metadata": {},
            "outputs": [
                {
                    "data": {
                        "text/plain": "0"
                    },
                    "execution_count": 36,
                    "metadata": {},
                    "output_type": "execute_result"
                }
            ],
            "source": "df_data['UNDERINFL'].isnull().sum()"
        },
        {
            "cell_type": "code",
            "execution_count": 37,
            "metadata": {},
            "outputs": [],
            "source": "df_data['UNDERINFL'].replace(to_replace=['N', 'Y'], value=['0','1'], inplace= True)"
        },
        {
            "cell_type": "code",
            "execution_count": 38,
            "metadata": {},
            "outputs": [
                {
                    "data": {
                        "text/plain": "0    175127\n1      9121\nName: UNDERINFL, dtype: int64"
                    },
                    "execution_count": 38,
                    "metadata": {},
                    "output_type": "execute_result"
                }
            ],
            "source": "df_data['UNDERINFL']= df_data['UNDERINFL'].astype('int64')\ndf_data['UNDERINFL'].value_counts()"
        },
        {
            "cell_type": "code",
            "execution_count": 39,
            "metadata": {},
            "outputs": [
                {
                    "data": {
                        "image/png": "[encoded data removed]",
                        "text/plain": "<Figure size 216x216 with 1 Axes>"
                    },
                    "metadata": {
                        "needs_background": "light"
                    },
                    "output_type": "display_data"
                }
            ],
            "source": "bins=np.linspace(0,1,3)\ng=sns.FacetGrid(df_data, hue=\"SEVERITYCODE\", palette= \"Set1\")\ng.map(plt.hist, \"UNDERINFL\", ec=\"k\", bins=bins)\nplt.legend()\nplt.show()"
        },
        {
            "cell_type": "code",
            "execution_count": 40,
            "metadata": {},
            "outputs": [],
            "source": "df_data['INATTENTIONIND'].replace(to_replace=[np.nan,'Y'], value=[0,1], inplace= True)"
        },
        {
            "cell_type": "code",
            "execution_count": 41,
            "metadata": {},
            "outputs": [
                {
                    "data": {
                        "text/plain": "0    154480\n1     29768\nName: INATTENTIONIND, dtype: int64"
                    },
                    "execution_count": 41,
                    "metadata": {},
                    "output_type": "execute_result"
                }
            ],
            "source": "df_data['INATTENTIONIND'].value_counts()"
        },
        {
            "cell_type": "code",
            "execution_count": 42,
            "metadata": {},
            "outputs": [
                {
                    "data": {
                        "text/plain": "dtype('int64')"
                    },
                    "execution_count": 42,
                    "metadata": {},
                    "output_type": "execute_result"
                }
            ],
            "source": "df_data['INATTENTIONIND'].dtypes"
        },
        {
            "cell_type": "code",
            "execution_count": 43,
            "metadata": {},
            "outputs": [
                {
                    "data": {
                        "image/png": "[encoded data removed]",
                        "text/plain": "<Figure size 216x216 with 1 Axes>"
                    },
                    "metadata": {
                        "needs_background": "light"
                    },
                    "output_type": "display_data"
                }
            ],
            "source": "bins=np.linspace(0,1,3)\ng=sns.FacetGrid(df_data, hue=\"SEVERITYCODE\", palette= \"Set1\")\ng.map(plt.hist, \"INATTENTIONIND\", ec=\"k\", bins=bins)\nplt.legend()\nplt.show()"
        },
        {
            "cell_type": "code",
            "execution_count": 44,
            "metadata": {},
            "outputs": [],
            "source": "df_data['SPEEDING'].replace(to_replace=[np.nan, 'Y'], value=[0,1], inplace= True)"
        },
        {
            "cell_type": "code",
            "execution_count": 45,
            "metadata": {},
            "outputs": [
                {
                    "data": {
                        "text/plain": "0    174933\n1      9315\nName: SPEEDING, dtype: int64"
                    },
                    "execution_count": 45,
                    "metadata": {},
                    "output_type": "execute_result"
                }
            ],
            "source": "df_data['SPEEDING'].value_counts()"
        },
        {
            "cell_type": "code",
            "execution_count": 46,
            "metadata": {},
            "outputs": [
                {
                    "data": {
                        "image/png": "[encoded data removed]",
                        "text/plain": "<Figure size 216x216 with 1 Axes>"
                    },
                    "metadata": {
                        "needs_background": "light"
                    },
                    "output_type": "display_data"
                }
            ],
            "source": "bins=np.linspace(0,1,3)\ng=sns.FacetGrid(df_data, hue=\"SEVERITYCODE\", palette= \"Set1\")\ng.map(plt.hist, \"SPEEDING\", ec=\"k\", bins=bins)\nplt.legend()\nplt.show()"
        },
        {
            "cell_type": "code",
            "execution_count": 47,
            "metadata": {},
            "outputs": [],
            "source": "df_data.rename(columns={'INATTENTIONIND': 'INATTENTION'}, inplace= True)"
        },
        {
            "cell_type": "code",
            "execution_count": 48,
            "metadata": {},
            "outputs": [],
            "source": "df=df_data[['SEVERITYCODE','VEHCOUNT', 'PERSONCOUNT', 'JUNCTIONTYPE', 'COLLISIONTYPE', 'UNDERINFL', 'INATTENTION', 'SPEEDING']]"
        },
        {
            "cell_type": "code",
            "execution_count": 49,
            "metadata": {},
            "outputs": [
                {
                    "data": {
                        "text/html": "<div>\n<style scoped>\n    .dataframe tbody tr th:only-of-type {\n        vertical-align: middle;\n    }\n\n    .dataframe tbody tr th {\n        vertical-align: top;\n    }\n\n    .dataframe thead th {\n        text-align: right;\n    }\n</style>\n<table border=\"1\" class=\"dataframe\">\n  <thead>\n    <tr style=\"text-align: right;\">\n      <th></th>\n      <th>SEVERITYCODE</th>\n      <th>VEHCOUNT</th>\n      <th>PERSONCOUNT</th>\n      <th>JUNCTIONTYPE</th>\n      <th>COLLISIONTYPE</th>\n      <th>UNDERINFL</th>\n      <th>INATTENTION</th>\n      <th>SPEEDING</th>\n    </tr>\n  </thead>\n  <tbody>\n    <tr>\n      <th>0</th>\n      <td>2</td>\n      <td>2</td>\n      <td>2</td>\n      <td>1</td>\n      <td>0</td>\n      <td>0</td>\n      <td>0</td>\n      <td>0</td>\n    </tr>\n    <tr>\n      <th>1</th>\n      <td>1</td>\n      <td>2</td>\n      <td>2</td>\n      <td>4</td>\n      <td>9</td>\n      <td>0</td>\n      <td>0</td>\n      <td>0</td>\n    </tr>\n    <tr>\n      <th>2</th>\n      <td>1</td>\n      <td>3</td>\n      <td>4</td>\n      <td>4</td>\n      <td>5</td>\n      <td>0</td>\n      <td>0</td>\n      <td>0</td>\n    </tr>\n    <tr>\n      <th>3</th>\n      <td>1</td>\n      <td>3</td>\n      <td>3</td>\n      <td>4</td>\n      <td>4</td>\n      <td>0</td>\n      <td>0</td>\n      <td>0</td>\n    </tr>\n    <tr>\n      <th>4</th>\n      <td>2</td>\n      <td>2</td>\n      <td>2</td>\n      <td>1</td>\n      <td>0</td>\n      <td>0</td>\n      <td>0</td>\n      <td>0</td>\n    </tr>\n  </tbody>\n</table>\n</div>",
                        "text/plain": "   SEVERITYCODE  VEHCOUNT  PERSONCOUNT  JUNCTIONTYPE  COLLISIONTYPE  \\\n0             2         2            2             1              0   \n1             1         2            2             4              9   \n2             1         3            4             4              5   \n3             1         3            3             4              4   \n4             2         2            2             1              0   \n\n   UNDERINFL  INATTENTION  SPEEDING  \n0          0            0         0  \n1          0            0         0  \n2          0            0         0  \n3          0            0         0  \n4          0            0         0  "
                    },
                    "execution_count": 49,
                    "metadata": {},
                    "output_type": "execute_result"
                }
            ],
            "source": "df.head()"
        },
        {
            "cell_type": "code",
            "execution_count": 50,
            "metadata": {},
            "outputs": [
                {
                    "data": {
                        "text/plain": "(184248, 8)"
                    },
                    "execution_count": 50,
                    "metadata": {},
                    "output_type": "execute_result"
                }
            ],
            "source": "df.shape"
        },
        {
            "cell_type": "code",
            "execution_count": 51,
            "metadata": {},
            "outputs": [
                {
                    "data": {
                        "text/plain": "1    128850\n2     55398\nName: SEVERITYCODE, dtype: int64"
                    },
                    "execution_count": 51,
                    "metadata": {},
                    "output_type": "execute_result"
                }
            ],
            "source": "df['SEVERITYCODE'].value_counts()"
        },
        {
            "cell_type": "code",
            "execution_count": 52,
            "metadata": {},
            "outputs": [
                {
                    "data": {
                        "text/plain": "SEVERITYCODE     int64\nVEHCOUNT         int64\nPERSONCOUNT      int64\nJUNCTIONTYPE     int64\nCOLLISIONTYPE    int64\nUNDERINFL        int64\nINATTENTION      int64\nSPEEDING         int64\ndtype: object"
                    },
                    "execution_count": 52,
                    "metadata": {},
                    "output_type": "execute_result"
                }
            ],
            "source": "df.dtypes"
        },
        {
            "cell_type": "code",
            "execution_count": 53,
            "metadata": {},
            "outputs": [],
            "source": "sml=np.random.rand(len(df))<0.8\ntrain=df[sml]\ntest=df[~sml]"
        },
        {
            "cell_type": "code",
            "execution_count": 54,
            "metadata": {},
            "outputs": [
                {
                    "name": "stdout",
                    "output_type": "stream",
                    "text": "no. of 1 in train data:  103199\nno. of 2 in train data:  44324\n"
                }
            ],
            "source": "print(\"no. of 1 in train data: \", len(train[train['SEVERITYCODE']==1]))\nprint(\"no. of 2 in train data: \", len(train[train['SEVERITYCODE']==2]))"
        },
        {
            "cell_type": "code",
            "execution_count": 55,
            "metadata": {},
            "outputs": [
                {
                    "name": "stdout",
                    "output_type": "stream",
                    "text": "fraction of train data having SEVERITYCODE(=1) to be kept:  0.7752013100902141\n"
                }
            ],
            "source": "m=80000/len(train[train['SEVERITYCODE']==1])\nprint(\"fraction of train data having SEVERITYCODE(=1) to be kept: \", m)"
        },
        {
            "cell_type": "code",
            "execution_count": 56,
            "metadata": {},
            "outputs": [
                {
                    "data": {
                        "text/plain": "(80000, 8)"
                    },
                    "execution_count": 56,
                    "metadata": {},
                    "output_type": "execute_result"
                }
            ],
            "source": "train_one=train[train['SEVERITYCODE']==1].sample(frac=m, replace=False, random_state=1)\ntrain_one.shape"
        },
        {
            "cell_type": "code",
            "execution_count": 57,
            "metadata": {},
            "outputs": [],
            "source": "train_two=train[train['SEVERITYCODE']==2]"
        },
        {
            "cell_type": "code",
            "execution_count": 58,
            "metadata": {},
            "outputs": [
                {
                    "name": "stdout",
                    "output_type": "stream",
                    "text": "fraction of train data having SEVERITYCODE(=2) to be added:  0.8048912553018681\n"
                }
            ],
            "source": "n=(80000/len(train[train['SEVERITYCODE']==2])-1)\nprint(\"fraction of train data having SEVERITYCODE(=2) to be added: \", n)"
        },
        {
            "cell_type": "code",
            "execution_count": 59,
            "metadata": {},
            "outputs": [
                {
                    "data": {
                        "text/plain": "(35676, 8)"
                    },
                    "execution_count": 59,
                    "metadata": {},
                    "output_type": "execute_result"
                }
            ],
            "source": "train_two_add=train[train['SEVERITYCODE']==2].sample(frac=n, replace= True, random_state=1)\ntrain_two_add.shape"
        },
        {
            "cell_type": "code",
            "execution_count": 60,
            "metadata": {},
            "outputs": [
                {
                    "data": {
                        "text/plain": "(160000, 8)"
                    },
                    "execution_count": 60,
                    "metadata": {},
                    "output_type": "execute_result"
                }
            ],
            "source": "train_new=pd.concat([train_one, train_two, train_two_add ], axis=0)\ntrain_new.shape"
        },
        {
            "cell_type": "code",
            "execution_count": 61,
            "metadata": {},
            "outputs": [
                {
                    "data": {
                        "text/html": "<div>\n<style scoped>\n    .dataframe tbody tr th:only-of-type {\n        vertical-align: middle;\n    }\n\n    .dataframe tbody tr th {\n        vertical-align: top;\n    }\n\n    .dataframe thead th {\n        text-align: right;\n    }\n</style>\n<table border=\"1\" class=\"dataframe\">\n  <thead>\n    <tr style=\"text-align: right;\">\n      <th></th>\n      <th>SEVERITYCODE</th>\n      <th>VEHCOUNT</th>\n      <th>PERSONCOUNT</th>\n      <th>JUNCTIONTYPE</th>\n      <th>COLLISIONTYPE</th>\n      <th>UNDERINFL</th>\n      <th>INATTENTION</th>\n      <th>SPEEDING</th>\n    </tr>\n  </thead>\n  <tbody>\n    <tr>\n      <th>0</th>\n      <td>1</td>\n      <td>2</td>\n      <td>5</td>\n      <td>2</td>\n      <td>4</td>\n      <td>0</td>\n      <td>0</td>\n      <td>0</td>\n    </tr>\n    <tr>\n      <th>1</th>\n      <td>1</td>\n      <td>2</td>\n      <td>2</td>\n      <td>4</td>\n      <td>0</td>\n      <td>0</td>\n      <td>1</td>\n      <td>0</td>\n    </tr>\n    <tr>\n      <th>2</th>\n      <td>1</td>\n      <td>2</td>\n      <td>2</td>\n      <td>1</td>\n      <td>9</td>\n      <td>0</td>\n      <td>0</td>\n      <td>0</td>\n    </tr>\n    <tr>\n      <th>3</th>\n      <td>1</td>\n      <td>2</td>\n      <td>3</td>\n      <td>6</td>\n      <td>5</td>\n      <td>0</td>\n      <td>0</td>\n      <td>0</td>\n    </tr>\n    <tr>\n      <th>4</th>\n      <td>1</td>\n      <td>2</td>\n      <td>2</td>\n      <td>3</td>\n      <td>7</td>\n      <td>0</td>\n      <td>0</td>\n      <td>0</td>\n    </tr>\n  </tbody>\n</table>\n</div>",
                        "text/plain": "   SEVERITYCODE  VEHCOUNT  PERSONCOUNT  JUNCTIONTYPE  COLLISIONTYPE  \\\n0             1         2            5             2              4   \n1             1         2            2             4              0   \n2             1         2            2             1              9   \n3             1         2            3             6              5   \n4             1         2            2             3              7   \n\n   UNDERINFL  INATTENTION  SPEEDING  \n0          0            0         0  \n1          0            1         0  \n2          0            0         0  \n3          0            0         0  \n4          0            0         0  "
                    },
                    "execution_count": 61,
                    "metadata": {},
                    "output_type": "execute_result"
                }
            ],
            "source": "train_new.reset_index(inplace= True)\ntrain_new.drop('index',axis=1, inplace= True)\ntrain_new.head()"
        },
        {
            "cell_type": "code",
            "execution_count": 62,
            "metadata": {},
            "outputs": [
                {
                    "data": {
                        "text/plain": "2    80000\n1    80000\nName: SEVERITYCODE, dtype: int64"
                    },
                    "execution_count": 62,
                    "metadata": {},
                    "output_type": "execute_result"
                }
            ],
            "source": "train_new['SEVERITYCODE'].value_counts()"
        },
        {
            "cell_type": "code",
            "execution_count": 63,
            "metadata": {},
            "outputs": [
                {
                    "data": {
                        "text/plain": "1    25651\n2    11074\nName: SEVERITYCODE, dtype: int64"
                    },
                    "execution_count": 63,
                    "metadata": {},
                    "output_type": "execute_result"
                }
            ],
            "source": "test['SEVERITYCODE'].value_counts()"
        },
        {
            "cell_type": "code",
            "execution_count": 64,
            "metadata": {},
            "outputs": [
                {
                    "name": "stdout",
                    "output_type": "stream",
                    "text": "fraction of data having value SEVERITYCODE(=1) to be kept:  0.7017270281860356\n"
                }
            ],
            "source": "p=18000/len(test[test['SEVERITYCODE']==1])\nprint(\"fraction of data having value SEVERITYCODE(=1) to be kept: \", p)"
        },
        {
            "cell_type": "code",
            "execution_count": 65,
            "metadata": {},
            "outputs": [
                {
                    "data": {
                        "text/plain": "(18000, 8)"
                    },
                    "execution_count": 65,
                    "metadata": {},
                    "output_type": "execute_result"
                }
            ],
            "source": "test_one=test[test['SEVERITYCODE']==1].sample(frac=p, replace=False , random_state=1)\ntest_one.shape"
        },
        {
            "cell_type": "code",
            "execution_count": 66,
            "metadata": {},
            "outputs": [],
            "source": "test_two=test[test['SEVERITYCODE']==2]"
        },
        {
            "cell_type": "code",
            "execution_count": 67,
            "metadata": {},
            "outputs": [
                {
                    "name": "stdout",
                    "output_type": "stream",
                    "text": "fraction of test data having SEVERITYCODE(=2) to be added:  0.6254289326350009\n"
                }
            ],
            "source": "q=(18000/len(test[test['SEVERITYCODE']==2]))-1\nprint(\"fraction of test data having SEVERITYCODE(=2) to be added: \", q)"
        },
        {
            "cell_type": "code",
            "execution_count": 68,
            "metadata": {},
            "outputs": [],
            "source": "test_two_add=test[test['SEVERITYCODE']==2].sample(frac=q, replace= True, random_state=1)"
        },
        {
            "cell_type": "code",
            "execution_count": 69,
            "metadata": {},
            "outputs": [
                {
                    "data": {
                        "text/plain": "2    18000\n1    18000\nName: SEVERITYCODE, dtype: int64"
                    },
                    "execution_count": 69,
                    "metadata": {},
                    "output_type": "execute_result"
                }
            ],
            "source": "test_new=pd.concat([test_one, test_two, test_two_add], axis=0)\ntest_new['SEVERITYCODE'].value_counts()"
        },
        {
            "cell_type": "code",
            "execution_count": 70,
            "metadata": {},
            "outputs": [
                {
                    "data": {
                        "text/html": "<div>\n<style scoped>\n    .dataframe tbody tr th:only-of-type {\n        vertical-align: middle;\n    }\n\n    .dataframe tbody tr th {\n        vertical-align: top;\n    }\n\n    .dataframe thead th {\n        text-align: right;\n    }\n</style>\n<table border=\"1\" class=\"dataframe\">\n  <thead>\n    <tr style=\"text-align: right;\">\n      <th></th>\n      <th>SEVERITYCODE</th>\n      <th>VEHCOUNT</th>\n      <th>PERSONCOUNT</th>\n      <th>JUNCTIONTYPE</th>\n      <th>COLLISIONTYPE</th>\n      <th>UNDERINFL</th>\n      <th>INATTENTION</th>\n      <th>SPEEDING</th>\n    </tr>\n  </thead>\n  <tbody>\n    <tr>\n      <th>0</th>\n      <td>1</td>\n      <td>2</td>\n      <td>4</td>\n      <td>4</td>\n      <td>5</td>\n      <td>0</td>\n      <td>0</td>\n      <td>0</td>\n    </tr>\n    <tr>\n      <th>1</th>\n      <td>1</td>\n      <td>2</td>\n      <td>3</td>\n      <td>1</td>\n      <td>3</td>\n      <td>0</td>\n      <td>0</td>\n      <td>0</td>\n    </tr>\n    <tr>\n      <th>2</th>\n      <td>1</td>\n      <td>1</td>\n      <td>1</td>\n      <td>4</td>\n      <td>4</td>\n      <td>0</td>\n      <td>1</td>\n      <td>0</td>\n    </tr>\n    <tr>\n      <th>3</th>\n      <td>1</td>\n      <td>2</td>\n      <td>2</td>\n      <td>4</td>\n      <td>9</td>\n      <td>0</td>\n      <td>0</td>\n      <td>0</td>\n    </tr>\n    <tr>\n      <th>4</th>\n      <td>1</td>\n      <td>2</td>\n      <td>2</td>\n      <td>4</td>\n      <td>4</td>\n      <td>0</td>\n      <td>0</td>\n      <td>1</td>\n    </tr>\n  </tbody>\n</table>\n</div>",
                        "text/plain": "   SEVERITYCODE  VEHCOUNT  PERSONCOUNT  JUNCTIONTYPE  COLLISIONTYPE  \\\n0             1         2            4             4              5   \n1             1         2            3             1              3   \n2             1         1            1             4              4   \n3             1         2            2             4              9   \n4             1         2            2             4              4   \n\n   UNDERINFL  INATTENTION  SPEEDING  \n0          0            0         0  \n1          0            0         0  \n2          0            1         0  \n3          0            0         0  \n4          0            0         1  "
                    },
                    "execution_count": 70,
                    "metadata": {},
                    "output_type": "execute_result"
                }
            ],
            "source": "test_new.reset_index(inplace=True)\ntest_new.drop(\"index\", axis=1, inplace=True)\ntest_new.head()"
        },
        {
            "cell_type": "code",
            "execution_count": 71,
            "metadata": {},
            "outputs": [
                {
                    "data": {
                        "text/plain": "array([[2, 5, 2, 4, 0, 0, 0],\n       [2, 2, 4, 0, 0, 1, 0],\n       [2, 2, 1, 9, 0, 0, 0],\n       [2, 3, 6, 5, 0, 0, 0],\n       [2, 2, 3, 7, 0, 0, 0]])"
                    },
                    "execution_count": 71,
                    "metadata": {},
                    "output_type": "execute_result"
                }
            ],
            "source": "train_X=np.asarray(train_new[['VEHCOUNT', 'PERSONCOUNT', 'JUNCTIONTYPE', 'COLLISIONTYPE', 'UNDERINFL', 'INATTENTION', 'SPEEDING']])\ntrain_X[0:5]"
        },
        {
            "cell_type": "code",
            "execution_count": 95,
            "metadata": {},
            "outputs": [
                {
                    "data": {
                        "text/plain": "array([1, 1, 1, 1, 1])"
                    },
                    "execution_count": 95,
                    "metadata": {},
                    "output_type": "execute_result"
                }
            ],
            "source": "train_y=np.asarray(train_new['SEVERITYCODE'])\ntrain_y[0:5]"
        },
        {
            "cell_type": "code",
            "execution_count": 73,
            "metadata": {},
            "outputs": [
                {
                    "data": {
                        "text/plain": "array([[2, 4, 4, 5, 0, 0, 0],\n       [2, 3, 1, 3, 0, 0, 0],\n       [1, 1, 4, 4, 0, 1, 0],\n       [2, 2, 4, 9, 0, 0, 0],\n       [2, 2, 4, 4, 0, 0, 1]])"
                    },
                    "execution_count": 73,
                    "metadata": {},
                    "output_type": "execute_result"
                }
            ],
            "source": "test_X=np.asarray(test_new[['VEHCOUNT', 'PERSONCOUNT', 'JUNCTIONTYPE', 'COLLISIONTYPE', 'UNDERINFL', 'INATTENTION', 'SPEEDING']])\ntest_X[0:5]"
        },
        {
            "cell_type": "code",
            "execution_count": 96,
            "metadata": {},
            "outputs": [
                {
                    "data": {
                        "text/plain": "array([1, 1, 1, 1, 1])"
                    },
                    "execution_count": 96,
                    "metadata": {},
                    "output_type": "execute_result"
                }
            ],
            "source": "test_y=np.asarray(test_new['SEVERITYCODE'])\ntest_y[0:5]"
        },
        {
            "cell_type": "code",
            "execution_count": 75,
            "metadata": {},
            "outputs": [],
            "source": "from sklearn.neighbors import KNeighborsClassifier\nfrom sklearn.tree import DecisionTreeClassifier\nfrom sklearn.linear_model import LogisticRegression\nfrom sklearn.svm import SVC "
        },
        {
            "cell_type": "code",
            "execution_count": 76,
            "metadata": {},
            "outputs": [],
            "source": "from sklearn.metrics import accuracy_score, jaccard_similarity_score, classification_report, f1_score"
        },
        {
            "cell_type": "code",
            "execution_count": 77,
            "metadata": {},
            "outputs": [],
            "source": "def accuracy(y, y_hat):\n    print(\"accuracy score: \", accuracy_score(y, y_hat))\n    print(\"jaccard similarity score: \", jaccard_similarity_score(y, y_hat))\n    print(\"classification report: \", classification_report(y, y_hat))\n    print(\"f1_score: \", f1_score(y, y_hat))\n    return"
        },
        {
            "cell_type": "code",
            "execution_count": 108,
            "metadata": {},
            "outputs": [
                {
                    "data": {
                        "image/png": "[encoded data removed]",
                        "text/plain": "<Figure size 432x288 with 1 Axes>"
                    },
                    "metadata": {
                        "needs_background": "light"
                    },
                    "output_type": "display_data"
                }
            ],
            "source": "neighbors=np.arange(1,15)\ntrain_accuracy=np.empty(len(neighbors))\ntest_accuracy=np.empty(len(neighbors))\n\nfor i,k in enumerate(neighbors):\n    knn_=KNeighborsClassifier(n_neighbors=k)\n    knn_.fit(train_X,train_y)\n    train_accuracy[i]=knn_.score(train_X,train_y)\n    test_accuracy[i]=knn_.score(test_X,test_y)\n    \nplt.plot(neighbors, train_accuracy, label=\"Training data accuracy\")\nplt.plot(neighbors, test_accuracy, label=\"Testing data accuracy\")\nplt.xlabel(\"n_neighbors\")\nplt.ylabel(\"Accuracy\")\nplt.legend()\nplt.show()"
        },
        {
            "cell_type": "code",
            "execution_count": 98,
            "metadata": {},
            "outputs": [
                {
                    "name": "stdout",
                    "output_type": "stream",
                    "text": "accuracy score:  0.6662777777777777\njaccard similarity score:  0.6662777777777777\nclassification report:                precision    recall  f1-score   support\n\n           1       0.65      0.71      0.68     18000\n           2       0.68      0.62      0.65     18000\n\n   micro avg       0.67      0.67      0.67     36000\n   macro avg       0.67      0.67      0.67     36000\nweighted avg       0.67      0.67      0.67     36000\n\nf1_score:  0.6800362203046767\n"
                }
            ],
            "source": "knn=KNeighborsClassifier(n_neighbors=5)\nknn.fit(train_X, train_y)\naccuracy(test_y, knn.predict(test_X))"
        },
        {
            "cell_type": "code",
            "execution_count": 99,
            "metadata": {},
            "outputs": [
                {
                    "name": "stdout",
                    "output_type": "stream",
                    "text": "accuracy score:  0.7128055555555556\njaccard similarity score:  0.7128055555555556\nclassification report:                precision    recall  f1-score   support\n\n           1       0.77      0.60      0.68     18000\n           2       0.67      0.82      0.74     18000\n\n   micro avg       0.71      0.71      0.71     36000\n   macro avg       0.72      0.71      0.71     36000\nweighted avg       0.72      0.71      0.71     36000\n\nf1_score:  0.6766131806950049\n"
                }
            ],
            "source": "tree=DecisionTreeClassifier(criterion=\"entropy\", max_depth=8)\ntree.fit(train_X, train_y)\naccuracy(test_y, tree.predict(test_X))"
        },
        {
            "cell_type": "code",
            "execution_count": 100,
            "metadata": {},
            "outputs": [
                {
                    "name": "stdout",
                    "output_type": "stream",
                    "text": "accuracy score:  0.6273611111111111\njaccard similarity score:  0.6273611111111111\nclassification report:                precision    recall  f1-score   support\n\n           1       0.63      0.64      0.63     18000\n           2       0.63      0.62      0.62     18000\n\n   micro avg       0.63      0.63      0.63     36000\n   macro avg       0.63      0.63      0.63     36000\nweighted avg       0.63      0.63      0.63     36000\n\nf1_score:  0.630308374900102\n"
                }
            ],
            "source": "lr=LogisticRegression(solver=\"liblinear\", C=0.01)\nlr.fit(train_X, train_y)\naccuracy(test_y, lr.predict(test_X))"
        },
        {
            "cell_type": "code",
            "execution_count": 101,
            "metadata": {},
            "outputs": [
                {
                    "data": {
                        "text/html": "<div>\n<style scoped>\n    .dataframe tbody tr th:only-of-type {\n        vertical-align: middle;\n    }\n\n    .dataframe tbody tr th {\n        vertical-align: top;\n    }\n\n    .dataframe thead th {\n        text-align: right;\n    }\n</style>\n<table border=\"1\" class=\"dataframe\">\n  <thead>\n    <tr style=\"text-align: right;\">\n      <th></th>\n      <th>Accuracy</th>\n      <th>Jaccard</th>\n      <th>f1</th>\n    </tr>\n    <tr>\n      <th>Algorithm</th>\n      <th></th>\n      <th></th>\n      <th></th>\n    </tr>\n  </thead>\n  <tbody>\n    <tr>\n      <th>KNN</th>\n      <td>0.666278</td>\n      <td>0.666278</td>\n      <td>0.665660</td>\n    </tr>\n    <tr>\n      <th>Tree</th>\n      <td>0.712806</td>\n      <td>0.712806</td>\n      <td>0.709163</td>\n    </tr>\n    <tr>\n      <th>Logistic</th>\n      <td>0.627361</td>\n      <td>0.627361</td>\n      <td>0.627337</td>\n    </tr>\n  </tbody>\n</table>\n</div>",
                        "text/plain": "           Accuracy   Jaccard        f1\nAlgorithm                              \nKNN        0.666278  0.666278  0.665660\nTree       0.712806  0.712806  0.709163\nLogistic   0.627361  0.627361  0.627337"
                    },
                    "execution_count": 101,
                    "metadata": {},
                    "output_type": "execute_result"
                }
            ],
            "source": "algorithms=[knn, tree, lr]\nscores=[accuracy_score, jaccard_similarity_score , f1_score]\nacc=[]\njacc=[]\nF1=[]\nlog=[]\n\nfor i,score in enumerate(scores):\n    for m,algorithm in enumerate(algorithms):\n        if (score==accuracy_score):\n            acc.append(score(test_y, algorithm.predict(test_X)))\n            \n        elif (score==jaccard_similarity_score):\n            jacc.append(score(test_y, algorithm.predict(test_X)))\n            \n        elif (score==f1_score):\n            F1.append(score(test_y, algorithm.predict(test_X), average=\"weighted\"))\n            \ndict={\"Algorithm\": [\"KNN\", \"Tree\", \"Logistic\"],\n     \"Accuracy\": acc, \"Jaccard\": jacc, \"f1\": F1}\n\nscore_df=pd.DataFrame(dict)\nscore_df.set_index(\"Algorithm\", inplace=True)\nscore_df\n            "
        },
        {
            "cell_type": "code",
            "execution_count": 86,
            "metadata": {},
            "outputs": [
                {
                    "data": {
                        "image/png": "[encoded data removed]",
                        "text/plain": "<Figure size 432x288 with 1 Axes>"
                    },
                    "metadata": {
                        "needs_background": "light"
                    },
                    "output_type": "display_data"
                }
            ],
            "source": "plt.hist(test_y, alpha=0.5, label=\"True values\")\nplt.hist(tree.predict(test_X), alpha=0.5, label=\"Predicted values\")\nplt.legend()\nplt.xlabel(\"SEVERITYCODE\")\nplt.ylabel(\"Frequency\")\nplt.title(\"Predicted frey vs True freq\")\nplt.show()"
        },
        {
            "cell_type": "code",
            "execution_count": 104,
            "metadata": {},
            "outputs": [
                {
                    "data": {
                        "image/png": "[encoded data removed]",
                        "text/plain": "<Figure size 432x288 with 1 Axes>"
                    },
                    "metadata": {
                        "needs_background": "light"
                    },
                    "output_type": "display_data"
                }
            ],
            "source": "plt.hist(test_y[test_y==1], alpha=0.5, label=\"True values\")\nplt.hist(tree.predict(test_X[test_y==1]), alpha=0.5, label=\"Predicted values\")\nplt.legend()\nplt.xlabel(\"SEVERITYCODE\")\nplt.ylabel(\"Frequency\")\nplt.title(\"Predicted freq vs True freq for SEVERITYCODE(=1)\")\nplt.show()"
        },
        {
            "cell_type": "code",
            "execution_count": 107,
            "metadata": {},
            "outputs": [
                {
                    "data": {
                        "image/png": "[encoded data removed]",
                        "text/plain": "<Figure size 432x288 with 1 Axes>"
                    },
                    "metadata": {
                        "needs_background": "light"
                    },
                    "output_type": "display_data"
                }
            ],
            "source": "plt.hist(test_y[test_y==2], alpha=0.5, stacked=False, label=\"True values\")\nplt.hist(tree.predict(test_X[test_y==2]), alpha=0.5, stacked=False, label=\"Predicted values\")\nplt.legend()\nplt.xlabel(\"SEVERITYCODE\")\nplt.ylabel(\"Frequency\")\nplt.title(\"Predicted freq vs True freq for SEVERITYCODE(=2)\")\nplt.show()"
        }
    ],
    "metadata": {
        "kernelspec": {
            "display_name": "Python 3.6",
            "language": "python",
            "name": "python3"
        },
        "language_info": {
            "codemirror_mode": {
                "name": "ipython",
                "version": 3
            },
            "file_extension": ".py",
            "mimetype": "text/x-python",
            "name": "python",
            "nbconvert_exporter": "python",
            "pygments_lexer": "ipython3",
            "version": "3.6.9"
        }
    },
    "nbformat": 4,
    "nbformat_minor": 1
}